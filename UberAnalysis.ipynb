{
 "cells": [
  {
   "cell_type": "markdown",
   "id": "5f3958f1-953f-4cd8-8f9d-3ef850d03bb4",
   "metadata": {},
   "source": [
    "### Importing necessary libraries"
   ]
  },
  {
   "cell_type": "code",
   "execution_count": 3,
   "id": "d1b67e8e-6faa-42fa-80f8-c6527f9ef5b8",
   "metadata": {},
   "outputs": [],
   "source": [
    "import pandas as pd\n",
    "import numpy as np\n",
    "import seaborn as sns\n",
    "import matplotlib.pyplot as plt"
   ]
  },
  {
   "cell_type": "markdown",
   "id": "35b87c55-9071-4baf-a8be-f9d508bb2c70",
   "metadata": {},
   "source": [
    "### Importing dataset"
   ]
  },
  {
   "cell_type": "code",
   "execution_count": 5,
   "id": "5a3dd328-3e27-40d0-bc45-95a39b1fdbe5",
   "metadata": {},
   "outputs": [
    {
     "data": {
      "text/html": [
       "<div>\n",
       "<style scoped>\n",
       "    .dataframe tbody tr th:only-of-type {\n",
       "        vertical-align: middle;\n",
       "    }\n",
       "\n",
       "    .dataframe tbody tr th {\n",
       "        vertical-align: top;\n",
       "    }\n",
       "\n",
       "    .dataframe thead th {\n",
       "        text-align: right;\n",
       "    }\n",
       "</style>\n",
       "<table border=\"1\" class=\"dataframe\">\n",
       "  <thead>\n",
       "    <tr style=\"text-align: right;\">\n",
       "      <th></th>\n",
       "      <th>START_DATE</th>\n",
       "      <th>END_DATE</th>\n",
       "      <th>CATEGORY</th>\n",
       "      <th>START</th>\n",
       "      <th>STOP</th>\n",
       "      <th>MILES</th>\n",
       "      <th>PURPOSE</th>\n",
       "    </tr>\n",
       "  </thead>\n",
       "  <tbody>\n",
       "    <tr>\n",
       "      <th>0</th>\n",
       "      <td>01-01-2016 21:11</td>\n",
       "      <td>01-01-2016 21:17</td>\n",
       "      <td>Business</td>\n",
       "      <td>Fort Pierce</td>\n",
       "      <td>Fort Pierce</td>\n",
       "      <td>5.1</td>\n",
       "      <td>Meal/Entertain</td>\n",
       "    </tr>\n",
       "    <tr>\n",
       "      <th>1</th>\n",
       "      <td>01-02-2016 01:25</td>\n",
       "      <td>01-02-2016 01:37</td>\n",
       "      <td>Business</td>\n",
       "      <td>Fort Pierce</td>\n",
       "      <td>Fort Pierce</td>\n",
       "      <td>5.0</td>\n",
       "      <td>NaN</td>\n",
       "    </tr>\n",
       "    <tr>\n",
       "      <th>2</th>\n",
       "      <td>01-02-2016 20:25</td>\n",
       "      <td>01-02-2016 20:38</td>\n",
       "      <td>Business</td>\n",
       "      <td>Fort Pierce</td>\n",
       "      <td>Fort Pierce</td>\n",
       "      <td>4.8</td>\n",
       "      <td>Errand/Supplies</td>\n",
       "    </tr>\n",
       "    <tr>\n",
       "      <th>3</th>\n",
       "      <td>01-05-2016 17:31</td>\n",
       "      <td>01-05-2016 17:45</td>\n",
       "      <td>Business</td>\n",
       "      <td>Fort Pierce</td>\n",
       "      <td>Fort Pierce</td>\n",
       "      <td>4.7</td>\n",
       "      <td>Meeting</td>\n",
       "    </tr>\n",
       "    <tr>\n",
       "      <th>4</th>\n",
       "      <td>01-06-2016 14:42</td>\n",
       "      <td>01-06-2016 15:49</td>\n",
       "      <td>Business</td>\n",
       "      <td>Fort Pierce</td>\n",
       "      <td>West Palm Beach</td>\n",
       "      <td>63.7</td>\n",
       "      <td>Customer Visit</td>\n",
       "    </tr>\n",
       "  </tbody>\n",
       "</table>\n",
       "</div>"
      ],
      "text/plain": [
       "         START_DATE          END_DATE  CATEGORY        START             STOP  \\\n",
       "0  01-01-2016 21:11  01-01-2016 21:17  Business  Fort Pierce      Fort Pierce   \n",
       "1  01-02-2016 01:25  01-02-2016 01:37  Business  Fort Pierce      Fort Pierce   \n",
       "2  01-02-2016 20:25  01-02-2016 20:38  Business  Fort Pierce      Fort Pierce   \n",
       "3  01-05-2016 17:31  01-05-2016 17:45  Business  Fort Pierce      Fort Pierce   \n",
       "4  01-06-2016 14:42  01-06-2016 15:49  Business  Fort Pierce  West Palm Beach   \n",
       "\n",
       "   MILES          PURPOSE  \n",
       "0    5.1   Meal/Entertain  \n",
       "1    5.0              NaN  \n",
       "2    4.8  Errand/Supplies  \n",
       "3    4.7          Meeting  \n",
       "4   63.7   Customer Visit  "
      ]
     },
     "execution_count": 5,
     "metadata": {},
     "output_type": "execute_result"
    }
   ],
   "source": [
    "df = pd.read_csv(r\"C:\\Users\\sonid\\OneDrive\\Desktop\\py\\Datasets\\UberDataset.csv\")\n",
    "df.head()"
   ]
  },
  {
   "cell_type": "code",
   "execution_count": 7,
   "id": "31451f86-a6f3-4c52-a17c-810de0872863",
   "metadata": {},
   "outputs": [
    {
     "data": {
      "text/plain": [
       "(1156, 7)"
      ]
     },
     "execution_count": 7,
     "metadata": {},
     "output_type": "execute_result"
    }
   ],
   "source": [
    "df.shape"
   ]
  },
  {
   "cell_type": "markdown",
   "id": "7fb99be2-d784-46b9-8107-9ff95616ddb1",
   "metadata": {},
   "source": [
    "### checking the null columns and data types of the dataset"
   ]
  },
  {
   "cell_type": "code",
   "execution_count": 9,
   "id": "2359c5e2-c202-4fe0-a556-64ea0b414781",
   "metadata": {},
   "outputs": [
    {
     "name": "stdout",
     "output_type": "stream",
     "text": [
      "<class 'pandas.core.frame.DataFrame'>\n",
      "RangeIndex: 1156 entries, 0 to 1155\n",
      "Data columns (total 7 columns):\n",
      " #   Column      Non-Null Count  Dtype  \n",
      "---  ------      --------------  -----  \n",
      " 0   START_DATE  1156 non-null   object \n",
      " 1   END_DATE    1155 non-null   object \n",
      " 2   CATEGORY    1155 non-null   object \n",
      " 3   START       1155 non-null   object \n",
      " 4   STOP        1155 non-null   object \n",
      " 5   MILES       1156 non-null   float64\n",
      " 6   PURPOSE     653 non-null    object \n",
      "dtypes: float64(1), object(6)\n",
      "memory usage: 63.3+ KB\n"
     ]
    }
   ],
   "source": [
    "df.info()"
   ]
  },
  {
   "cell_type": "markdown",
   "id": "75bf7d80-feb3-4065-a017-5719b1df61e1",
   "metadata": {},
   "source": [
    "### Handling Null Values"
   ]
  },
  {
   "cell_type": "code",
   "execution_count": 11,
   "id": "3b587454-3a98-44f7-8028-95778addd3c9",
   "metadata": {},
   "outputs": [
    {
     "data": {
      "text/plain": [
       "START_DATE      0\n",
       "END_DATE        1\n",
       "CATEGORY        1\n",
       "START           1\n",
       "STOP            1\n",
       "MILES           0\n",
       "PURPOSE       503\n",
       "dtype: int64"
      ]
     },
     "execution_count": 11,
     "metadata": {},
     "output_type": "execute_result"
    }
   ],
   "source": [
    "df.isna().sum()"
   ]
  },
  {
   "cell_type": "code",
   "execution_count": 154,
   "id": "8d1388c0-21b5-41b7-9af3-ff1ad6b7166d",
   "metadata": {},
   "outputs": [],
   "source": [
    "df.drop(df[df[\"END_DATE\"].isna()].index,axis=0,inplace=True)"
   ]
  },
  {
   "cell_type": "code",
   "execution_count": 156,
   "id": "54141200-c91e-4828-b9a5-a4664ef2ebce",
   "metadata": {},
   "outputs": [
    {
     "data": {
      "text/plain": [
       "START_DATE      0\n",
       "END_DATE        0\n",
       "CATEGORY        0\n",
       "START           0\n",
       "STOP            0\n",
       "MILES           0\n",
       "PURPOSE       502\n",
       "RoundTrip       0\n",
       "dtype: int64"
      ]
     },
     "execution_count": 156,
     "metadata": {},
     "output_type": "execute_result"
    }
   ],
   "source": [
    "df.isna().sum()"
   ]
  },
  {
   "cell_type": "code",
   "execution_count": 160,
   "id": "4ae76556-09d1-4cfc-b5ec-be3a0a42d135",
   "metadata": {},
   "outputs": [],
   "source": [
    "df.drop(['PURPOSE'],axis=1,inplace=True)"
   ]
  },
  {
   "cell_type": "markdown",
   "id": "0dac47ac-9719-4e86-95b4-eb05139d9eb8",
   "metadata": {},
   "source": [
    "## Checking Duplicate rows"
   ]
  },
  {
   "cell_type": "code",
   "execution_count": 162,
   "id": "1390fcab-3d24-448a-8f11-8f635fece1e4",
   "metadata": {},
   "outputs": [
    {
     "data": {
      "text/html": [
       "<div>\n",
       "<style scoped>\n",
       "    .dataframe tbody tr th:only-of-type {\n",
       "        vertical-align: middle;\n",
       "    }\n",
       "\n",
       "    .dataframe tbody tr th {\n",
       "        vertical-align: top;\n",
       "    }\n",
       "\n",
       "    .dataframe thead th {\n",
       "        text-align: right;\n",
       "    }\n",
       "</style>\n",
       "<table border=\"1\" class=\"dataframe\">\n",
       "  <thead>\n",
       "    <tr style=\"text-align: right;\">\n",
       "      <th></th>\n",
       "      <th>START_DATE</th>\n",
       "      <th>END_DATE</th>\n",
       "      <th>CATEGORY</th>\n",
       "      <th>START</th>\n",
       "      <th>STOP</th>\n",
       "      <th>MILES</th>\n",
       "      <th>RoundTrip</th>\n",
       "    </tr>\n",
       "  </thead>\n",
       "  <tbody>\n",
       "  </tbody>\n",
       "</table>\n",
       "</div>"
      ],
      "text/plain": [
       "Empty DataFrame\n",
       "Columns: [START_DATE, END_DATE, CATEGORY, START, STOP, MILES, RoundTrip]\n",
       "Index: []"
      ]
     },
     "execution_count": 162,
     "metadata": {},
     "output_type": "execute_result"
    }
   ],
   "source": [
    "df[df.duplicated()]"
   ]
  },
  {
   "cell_type": "code",
   "execution_count": 164,
   "id": "aa7eb3d8-eb16-4546-97ef-82dba3059eee",
   "metadata": {},
   "outputs": [
    {
     "data": {
      "text/html": [
       "<div>\n",
       "<style scoped>\n",
       "    .dataframe tbody tr th:only-of-type {\n",
       "        vertical-align: middle;\n",
       "    }\n",
       "\n",
       "    .dataframe tbody tr th {\n",
       "        vertical-align: top;\n",
       "    }\n",
       "\n",
       "    .dataframe thead th {\n",
       "        text-align: right;\n",
       "    }\n",
       "</style>\n",
       "<table border=\"1\" class=\"dataframe\">\n",
       "  <thead>\n",
       "    <tr style=\"text-align: right;\">\n",
       "      <th></th>\n",
       "      <th>START_DATE</th>\n",
       "      <th>END_DATE</th>\n",
       "      <th>CATEGORY</th>\n",
       "      <th>START</th>\n",
       "      <th>STOP</th>\n",
       "      <th>MILES</th>\n",
       "      <th>RoundTrip</th>\n",
       "    </tr>\n",
       "  </thead>\n",
       "  <tbody>\n",
       "  </tbody>\n",
       "</table>\n",
       "</div>"
      ],
      "text/plain": [
       "Empty DataFrame\n",
       "Columns: [START_DATE, END_DATE, CATEGORY, START, STOP, MILES, RoundTrip]\n",
       "Index: []"
      ]
     },
     "execution_count": 164,
     "metadata": {},
     "output_type": "execute_result"
    }
   ],
   "source": [
    "df.drop(df[df.duplicated].index,axis=0,inplace=True)\n",
    "df[df.duplicated()]"
   ]
  },
  {
   "cell_type": "code",
   "execution_count": 166,
   "id": "26ddf673-f072-4204-8ed3-bc9035c5d75c",
   "metadata": {},
   "outputs": [
    {
     "name": "stdout",
     "output_type": "stream",
     "text": [
      "<class 'pandas.core.frame.DataFrame'>\n",
      "Index: 1154 entries, 0 to 1154\n",
      "Data columns (total 7 columns):\n",
      " #   Column      Non-Null Count  Dtype  \n",
      "---  ------      --------------  -----  \n",
      " 0   START_DATE  1154 non-null   object \n",
      " 1   END_DATE    1154 non-null   object \n",
      " 2   CATEGORY    1154 non-null   object \n",
      " 3   START       1154 non-null   object \n",
      " 4   STOP        1154 non-null   object \n",
      " 5   MILES       1154 non-null   float64\n",
      " 6   RoundTrip   1154 non-null   object \n",
      "dtypes: float64(1), object(6)\n",
      "memory usage: 72.1+ KB\n"
     ]
    }
   ],
   "source": [
    "df.info()"
   ]
  },
  {
   "cell_type": "markdown",
   "id": "63618120-c1a0-4070-aa10-6756152be58b",
   "metadata": {},
   "source": [
    "### handling the datetime format in proper way if any field has not proper format then converting in the proper format"
   ]
  },
  {
   "cell_type": "code",
   "execution_count": null,
   "id": "ca917be6-7503-4b07-9ca0-25eeee487d83",
   "metadata": {},
   "outputs": [],
   "source": [
    "df[\"START_DATE\"] = pd.to_datetime(df[\"START_DATE\"],errors=\"coerce\")\n",
    "df[\"END_DATE\"] = pd.to_datetime(df[\"END_DATE\"],errors=\"coerce\")\n",
    "df.head()"
   ]
  },
  {
   "cell_type": "markdown",
   "id": "61b3d757-8890-4cdb-8e64-d910ea5d1c18",
   "metadata": {},
   "source": [
    "### Splitting the START_DATE to date and time column and then converting the time into four different categories"
   ]
  },
  {
   "cell_type": "code",
   "execution_count": 177,
   "id": "b6867ade-18b7-4b6d-886d-95da369adeae",
   "metadata": {},
   "outputs": [
    {
     "data": {
      "text/html": [
       "<div>\n",
       "<style scoped>\n",
       "    .dataframe tbody tr th:only-of-type {\n",
       "        vertical-align: middle;\n",
       "    }\n",
       "\n",
       "    .dataframe tbody tr th {\n",
       "        vertical-align: top;\n",
       "    }\n",
       "\n",
       "    .dataframe thead th {\n",
       "        text-align: right;\n",
       "    }\n",
       "</style>\n",
       "<table border=\"1\" class=\"dataframe\">\n",
       "  <thead>\n",
       "    <tr style=\"text-align: right;\">\n",
       "      <th></th>\n",
       "      <th>START_DATE</th>\n",
       "      <th>END_DATE</th>\n",
       "      <th>CATEGORY</th>\n",
       "      <th>START</th>\n",
       "      <th>STOP</th>\n",
       "      <th>MILES</th>\n",
       "      <th>RoundTrip</th>\n",
       "      <th>DATE</th>\n",
       "      <th>TIME</th>\n",
       "      <th>DAY-NIGHT</th>\n",
       "    </tr>\n",
       "  </thead>\n",
       "  <tbody>\n",
       "    <tr>\n",
       "      <th>0</th>\n",
       "      <td>01-01-2016 21:11</td>\n",
       "      <td>01-01-2016 21:17</td>\n",
       "      <td>Business</td>\n",
       "      <td>Fort Pierce</td>\n",
       "      <td>Fort Pierce</td>\n",
       "      <td>5.1</td>\n",
       "      <td>yes</td>\n",
       "      <td>2016-01-01</td>\n",
       "      <td>21</td>\n",
       "      <td>Night</td>\n",
       "    </tr>\n",
       "    <tr>\n",
       "      <th>1</th>\n",
       "      <td>01-02-2016 01:25</td>\n",
       "      <td>01-02-2016 01:37</td>\n",
       "      <td>Business</td>\n",
       "      <td>Fort Pierce</td>\n",
       "      <td>Fort Pierce</td>\n",
       "      <td>5.0</td>\n",
       "      <td>yes</td>\n",
       "      <td>2016-01-02</td>\n",
       "      <td>1</td>\n",
       "      <td>Morning</td>\n",
       "    </tr>\n",
       "    <tr>\n",
       "      <th>2</th>\n",
       "      <td>01-02-2016 20:25</td>\n",
       "      <td>01-02-2016 20:38</td>\n",
       "      <td>Business</td>\n",
       "      <td>Fort Pierce</td>\n",
       "      <td>Fort Pierce</td>\n",
       "      <td>4.8</td>\n",
       "      <td>yes</td>\n",
       "      <td>2016-01-02</td>\n",
       "      <td>20</td>\n",
       "      <td>Night</td>\n",
       "    </tr>\n",
       "    <tr>\n",
       "      <th>3</th>\n",
       "      <td>01-05-2016 17:31</td>\n",
       "      <td>01-05-2016 17:45</td>\n",
       "      <td>Business</td>\n",
       "      <td>Fort Pierce</td>\n",
       "      <td>Fort Pierce</td>\n",
       "      <td>4.7</td>\n",
       "      <td>yes</td>\n",
       "      <td>2016-01-05</td>\n",
       "      <td>17</td>\n",
       "      <td>Evening</td>\n",
       "    </tr>\n",
       "    <tr>\n",
       "      <th>4</th>\n",
       "      <td>01-06-2016 14:42</td>\n",
       "      <td>01-06-2016 15:49</td>\n",
       "      <td>Business</td>\n",
       "      <td>Fort Pierce</td>\n",
       "      <td>West Palm Beach</td>\n",
       "      <td>63.7</td>\n",
       "      <td>no</td>\n",
       "      <td>2016-01-06</td>\n",
       "      <td>14</td>\n",
       "      <td>Afternoon</td>\n",
       "    </tr>\n",
       "  </tbody>\n",
       "</table>\n",
       "</div>"
      ],
      "text/plain": [
       "         START_DATE          END_DATE  CATEGORY        START             STOP  \\\n",
       "0  01-01-2016 21:11  01-01-2016 21:17  Business  Fort Pierce      Fort Pierce   \n",
       "1  01-02-2016 01:25  01-02-2016 01:37  Business  Fort Pierce      Fort Pierce   \n",
       "2  01-02-2016 20:25  01-02-2016 20:38  Business  Fort Pierce      Fort Pierce   \n",
       "3  01-05-2016 17:31  01-05-2016 17:45  Business  Fort Pierce      Fort Pierce   \n",
       "4  01-06-2016 14:42  01-06-2016 15:49  Business  Fort Pierce  West Palm Beach   \n",
       "\n",
       "   MILES RoundTrip        DATE  TIME  DAY-NIGHT  \n",
       "0    5.1       yes  2016-01-01    21      Night  \n",
       "1    5.0       yes  2016-01-02     1    Morning  \n",
       "2    4.8       yes  2016-01-02    20      Night  \n",
       "3    4.7       yes  2016-01-05    17    Evening  \n",
       "4   63.7        no  2016-01-06    14  Afternoon  "
      ]
     },
     "execution_count": 177,
     "metadata": {},
     "output_type": "execute_result"
    }
   ],
   "source": [
    "from datetime import datetime\n",
    "df[\"DATE\"] = pd.DatetimeIndex(df[\"START_DATE\"]).date\n",
    "df[\"TIME\"] = pd.DatetimeIndex(df[\"START_DATE\"]).hour\n",
    "\n",
    "df[\"DAY-NIGHT\"] = pd.cut(x=df[\"TIME\"],bins=[0,10,15,19,24],labels=[\"Morning\",\"Afternoon\",\"Evening\",\"Night\"])\n",
    "df.head()"
   ]
  },
  {
   "cell_type": "markdown",
   "id": "95aa1f24-eaad-4521-9375-388fe084446f",
   "metadata": {},
   "source": [
    "### droping the null columns "
   ]
  },
  {
   "cell_type": "code",
   "execution_count": null,
   "id": "b1e42d94-fa37-422c-9708-0954995c2149",
   "metadata": {},
   "outputs": [],
   "source": [
    "df.dropna(inplace=True)"
   ]
  },
  {
   "cell_type": "markdown",
   "id": "b72bd5f5-3f0d-44df-a144-0d1f9caf03f5",
   "metadata": {},
   "source": [
    "### dropping duplicate columns"
   ]
  },
  {
   "cell_type": "code",
   "execution_count": null,
   "id": "93da8773-e099-416d-a3fb-b17b4bb2da54",
   "metadata": {},
   "outputs": [],
   "source": [
    "df.drop_duplicates(inplace=True)"
   ]
  },
  {
   "cell_type": "markdown",
   "id": "7239e5e8-93ef-48b6-b906-48b4d363e316",
   "metadata": {},
   "source": [
    "### checking unique values in each columns with object datatype"
   ]
  },
  {
   "cell_type": "markdown",
   "id": "3234edf0-533c-46d0-8cb0-be5734cf2492",
   "metadata": {},
   "source": [
    "# EDA \n",
    "### (Exploratory data analysis)"
   ]
  },
  {
   "cell_type": "markdown",
   "id": "efa8081c-a314-4484-aeef-8086129b5f4c",
   "metadata": {},
   "source": [
    "# univariate"
   ]
  },
  {
   "cell_type": "markdown",
   "id": "9d00097f-23d7-4f13-8de5-6db6b6e21ac2",
   "metadata": {},
   "source": [
    "# 1. Category"
   ]
  },
  {
   "cell_type": "code",
   "execution_count": 40,
   "id": "6bcf00ea-b280-4325-8f5c-d8ac7dbbce02",
   "metadata": {},
   "outputs": [
    {
     "data": {
      "text/plain": [
       "array(['Business', 'Personal'], dtype=object)"
      ]
     },
     "execution_count": 40,
     "metadata": {},
     "output_type": "execute_result"
    }
   ],
   "source": [
    "df[\"CATEGORY\"].unique()"
   ]
  },
  {
   "cell_type": "markdown",
   "id": "95578f60-bd6e-4118-a06d-7bea2c49a0e0",
   "metadata": {},
   "source": [
    "#### counting the total number of the travel done in the perticular category"
   ]
  },
  {
   "cell_type": "code",
   "execution_count": 56,
   "id": "a258b30f-5914-4ddf-b8e6-e477a8153f6b",
   "metadata": {},
   "outputs": [
    {
     "data": {
      "text/html": [
       "<div>\n",
       "<style scoped>\n",
       "    .dataframe tbody tr th:only-of-type {\n",
       "        vertical-align: middle;\n",
       "    }\n",
       "\n",
       "    .dataframe tbody tr th {\n",
       "        vertical-align: top;\n",
       "    }\n",
       "\n",
       "    .dataframe thead th {\n",
       "        text-align: right;\n",
       "    }\n",
       "</style>\n",
       "<table border=\"1\" class=\"dataframe\">\n",
       "  <thead>\n",
       "    <tr style=\"text-align: right;\">\n",
       "      <th></th>\n",
       "      <th>total_miles</th>\n",
       "    </tr>\n",
       "    <tr>\n",
       "      <th>CATEGORY</th>\n",
       "      <th></th>\n",
       "    </tr>\n",
       "  </thead>\n",
       "  <tbody>\n",
       "    <tr>\n",
       "      <th>Business</th>\n",
       "      <td>11477.1</td>\n",
       "    </tr>\n",
       "    <tr>\n",
       "      <th>Personal</th>\n",
       "      <td>717.7</td>\n",
       "    </tr>\n",
       "  </tbody>\n",
       "</table>\n",
       "</div>"
      ],
      "text/plain": [
       "          total_miles\n",
       "CATEGORY             \n",
       "Business      11477.1\n",
       "Personal        717.7"
      ]
     },
     "execution_count": 56,
     "metadata": {},
     "output_type": "execute_result"
    }
   ],
   "source": [
    "df[[\"CATEGORY\",\"MILES\"]].groupby([\"CATEGORY\"]).agg(total_miles=(\"MILES\",'sum'))"
   ]
  },
  {
   "cell_type": "code",
   "execution_count": 72,
   "id": "80c5c804-095f-43b3-9443-6379d510433e",
   "metadata": {},
   "outputs": [
    {
     "data": {
      "text/plain": [
       "<Figure size 500x500 with 0 Axes>"
      ]
     },
     "metadata": {},
     "output_type": "display_data"
    },
    {
     "data": {
      "image/png": "[encoded data removed]",
      "text/plain": [
       "<Figure size 640x480 with 1 Axes>"
      ]
     },
     "metadata": {},
     "output_type": "display_data"
    }
   ],
   "source": [
    "plt.figure(figsize=(5,5))\n",
    "df[[\"CATEGORY\",\"MILES\"]].groupby([\"CATEGORY\"]).agg(total_miles=(\"MILES\",'sum')).plot(kind=\"bar\")\n",
    "plt.ylabel(\"Total Miles\")\n",
    "plt.xlabel(\"Diffrent Categories\")\n",
    "plt.title(\"Total miles covered by diffrent categories\")\n",
    "plt.show()"
   ]
  },
  {
   "cell_type": "markdown",
   "id": "b9bcc8c4-8f2e-423f-b63a-542574b70b16",
   "metadata": {},
   "source": [
    "#### Mostly users use the Uber for the business purpose"
   ]
  },
  {
   "cell_type": "code",
   "execution_count": 83,
   "id": "894c1d9a-d3ad-46cc-aad5-d734bfe415cd",
   "metadata": {},
   "outputs": [
    {
     "data": {
      "text/plain": [
       "177"
      ]
     },
     "execution_count": 83,
     "metadata": {},
     "output_type": "execute_result"
    }
   ],
   "source": [
    "len(df[\"START\"].unique())"
   ]
  },
  {
   "cell_type": "code",
   "execution_count": 87,
   "id": "fd53481b-9983-4c91-b677-285605b747c5",
   "metadata": {},
   "outputs": [
    {
     "data": {
      "text/plain": [
       "START\n",
       "Cary                201\n",
       "Unknown Location    148\n",
       "Morrisville          85\n",
       "Whitebridge          68\n",
       "Islamabad            57\n",
       "Lahore               36\n",
       "Durham               36\n",
       "Raleigh              28\n",
       "Kar?chi              27\n",
       "Westpark Place       17\n",
       "Name: count, dtype: int64"
      ]
     },
     "execution_count": 87,
     "metadata": {},
     "output_type": "execute_result"
    }
   ],
   "source": [
    "#Top 10 start places\n",
    "df[\"START\"].value_counts(ascending=False)[:10]"
   ]
  },
  {
   "cell_type": "code",
   "execution_count": 98,
   "id": "b2277875-9283-4558-a053-ee9096d3bbc2",
   "metadata": {},
   "outputs": [
    {
     "data": {
      "text/plain": [
       "<Axes: title={'center': 'Top 10 most famous pickup points'}, xlabel='PickUp count', ylabel='Places'>"
      ]
     },
     "execution_count": 98,
     "metadata": {},
     "output_type": "execute_result"
    },
    {
     "data": {
      "image/png": "[encoded data removed]",
      "text/plain": [
       "<Figure size 640x480 with 1 Axes>"
      ]
     },
     "metadata": {},
     "output_type": "display_data"
    }
   ],
   "source": [
    "df[\"START\"].value_counts(ascending=False)[:10].plot(kind=\"barh\",ylabel=\"Places\",xlabel=\"PickUp count\",title=\"Top 10 most famous pickup points\")"
   ]
  },
  {
   "cell_type": "markdown",
   "id": "4c65b998-3e13-4de2-ba82-057c86ac4a9c",
   "metadata": {},
   "source": [
    "#### To most famous pickup points is cary and the pickup count is arount 200"
   ]
  },
  {
   "cell_type": "code",
   "execution_count": 104,
   "id": "7af516b7-376d-4569-9022-e34ea4ecfb4f",
   "metadata": {},
   "outputs": [
    {
     "data": {
      "text/plain": [
       "188"
      ]
     },
     "execution_count": 104,
     "metadata": {},
     "output_type": "execute_result"
    }
   ],
   "source": [
    "len(df[\"STOP\"].unique())"
   ]
  },
  {
   "cell_type": "code",
   "execution_count": 106,
   "id": "4b8d33a6-6fbc-4a9a-8fd6-83b9a83ded49",
   "metadata": {},
   "outputs": [
    {
     "data": {
      "text/plain": [
       "STOP\n",
       "Cary                202\n",
       "Unknown Location    149\n",
       "Morrisville          84\n",
       "Whitebridge          65\n",
       "Islamabad            58\n",
       "Durham               36\n",
       "Lahore               36\n",
       "Raleigh              29\n",
       "Kar?chi              26\n",
       "Apex                 17\n",
       "Name: count, dtype: int64"
      ]
     },
     "execution_count": 106,
     "metadata": {},
     "output_type": "execute_result"
    }
   ],
   "source": [
    "df[\"STOP\"].value_counts(ascending=False)[:10]"
   ]
  },
  {
   "cell_type": "code",
   "execution_count": 108,
   "id": "f8be0d0c-104d-455d-aa1f-e678543c633f",
   "metadata": {},
   "outputs": [
    {
     "data": {
      "text/plain": [
       "<Axes: title={'center': 'Top 10 most famous drop place'}, xlabel='Drop Count', ylabel='Place'>"
      ]
     },
     "execution_count": 108,
     "metadata": {},
     "output_type": "execute_result"
    },
    {
     "data": {
      "image/png": "[encoded data removed]",
      "text/plain": [
       "<Figure size 640x480 with 1 Axes>"
      ]
     },
     "metadata": {},
     "output_type": "display_data"
    }
   ],
   "source": [
    "df[\"STOP\"].value_counts(ascending=False)[:10].plot(kind=\"barh\",ylabel=\"Place\",xlabel=\"Drop Count\",title=\"Top 10 most famous drop place\")"
   ]
  },
  {
   "cell_type": "markdown",
   "id": "ac606910-4592-4baa-a594-ca03c9267e70",
   "metadata": {},
   "source": [
    "#### To most famous Pickup and  Drop points is Cary and the pickup & drop count is around 200"
   ]
  },
  {
   "cell_type": "code",
   "execution_count": 114,
   "id": "837fe447-7c64-43cb-bf99-96e9cc0cdb70",
   "metadata": {},
   "outputs": [
    {
     "data": {
      "text/plain": [
       "START\n",
       "Unknown Location    148\n",
       "Name: count, dtype: int64"
      ]
     },
     "execution_count": 114,
     "metadata": {},
     "output_type": "execute_result"
    }
   ],
   "source": [
    "df[df[\"START\"] == \"Unknown Location\"][\"START\"].value_counts()"
   ]
  },
  {
   "cell_type": "code",
   "execution_count": 118,
   "id": "e55b34ae-c2f9-40b7-96f3-dda483ce1019",
   "metadata": {},
   "outputs": [
    {
     "data": {
      "text/plain": [
       "STOP\n",
       "Unknown Location    149\n",
       "Name: count, dtype: int64"
      ]
     },
     "execution_count": 118,
     "metadata": {},
     "output_type": "execute_result"
    }
   ],
   "source": [
    "df[df[\"STOP\"] == \"Unknown Location\"][\"STOP\"].value_counts()"
   ]
  },
  {
   "cell_type": "markdown",
   "id": "dda25180-9f4a-45fd-9717-556a14ee8069",
   "metadata": {},
   "source": [
    "# Miles"
   ]
  },
  {
   "cell_type": "code",
   "execution_count": 121,
   "id": "1bea87fd-56ff-4228-a4e4-88caaec5b755",
   "metadata": {},
   "outputs": [
    {
     "data": {
      "text/plain": [
       "<Axes: xlabel='MILES', ylabel='Count'>"
      ]
     },
     "execution_count": 121,
     "metadata": {},
     "output_type": "execute_result"
    },
    {
     "data": {
      "image/png": "[encoded data removed]",
      "text/plain": [
       "<Figure size 640x480 with 1 Axes>"
      ]
     },
     "metadata": {},
     "output_type": "display_data"
    }
   ],
   "source": [
    "sns.histplot(df[\"MILES\"],kde=True)"
   ]
  },
  {
   "cell_type": "markdown",
   "id": "1a6e1da0-918d-4e5c-be8f-5f49a3865260",
   "metadata": {},
   "source": [
    "# MultiVariate"
   ]
  },
  {
   "cell_type": "code",
   "execution_count": 125,
   "id": "f8367c35-50ff-4de4-976f-57eb43ff9025",
   "metadata": {},
   "outputs": [
    {
     "data": {
      "text/plain": [
       "START             STOP            \n",
       "Morrisville       Cary                395.7\n",
       "Cary              Durham              390.0\n",
       "                  Morrisville         380.0\n",
       "Raleigh           Cary                365.7\n",
       "Cary              Raleigh             336.5\n",
       "Durham            Cary                324.5\n",
       "Latta             Jacksonville        310.3\n",
       "Islamabad         Unknown Location    267.0\n",
       "Cary              Cary                255.9\n",
       "Unknown Location  Islamabad           243.8\n",
       "Name: MILES, dtype: float64"
      ]
     },
     "execution_count": 125,
     "metadata": {},
     "output_type": "execute_result"
    }
   ],
   "source": [
    "df.groupby(['START','STOP'])['MILES'].sum().sort_values(ascending=False)[1:11]"
   ]
  },
  {
   "cell_type": "markdown",
   "id": "e97c001b-7b7d-41b1-bf67-f55553fd4801",
   "metadata": {},
   "source": [
    "#### Checking for round trip how"
   ]
  },
  {
   "cell_type": "code",
   "execution_count": null,
   "id": "65ff231d-9f61-46c8-8810-93d3b5e2ea89",
   "metadata": {},
   "outputs": [],
   "source": []
  },
  {
   "cell_type": "code",
   "execution_count": 135,
   "id": "d2acc002-4737-402c-9b65-25be96bd751e",
   "metadata": {},
   "outputs": [
    {
     "data": {
      "text/plain": [
       "Text(0.5, 1.0, 'Customer round-trip ratio')"
      ]
     },
     "execution_count": 135,
     "metadata": {},
     "output_type": "execute_result"
    },
    {
     "data": {
      "image/png": "[encoded data removed]",
      "text/plain": [
       "<Figure size 640x480 with 1 Axes>"
      ]
     },
     "metadata": {},
     "output_type": "display_data"
    }
   ],
   "source": [
    "def isRoundTrip(df):\n",
    "    if df[\"START\"] == df[\"STOP\"]:\n",
    "        return 'yes'\n",
    "    else:\n",
    "        return 'no'\n",
    "\n",
    "df[\"RoundTrip\"] = df.apply(isRoundTrip,axis=1)\n",
    "sns.countplot(x='RoundTrip',data=df,order=df[\"RoundTrip\"].value_counts().index)\n",
    "plt.title(\"Customer round-trip ratio\")"
   ]
  },
  {
   "cell_type": "code",
   "execution_count": 139,
   "id": "d962ab31-4ce2-4ce7-abc0-d99ac40559f8",
   "metadata": {},
   "outputs": [
    {
     "data": {
      "text/plain": [
       "RoundTrip\n",
       "no     866\n",
       "yes    288\n",
       "Name: count, dtype: int64"
      ]
     },
     "execution_count": 139,
     "metadata": {},
     "output_type": "execute_result"
    }
   ],
   "source": [
    "df[\"RoundTrip\"].value_counts()"
   ]
  },
  {
   "cell_type": "code",
   "execution_count": 145,
   "id": "34f178b4-168c-4148-892c-d4752778afca",
   "metadata": {},
   "outputs": [
    {
     "data": {
      "text/plain": [
       "<Axes: xlabel='count', ylabel='CATEGORY'>"
      ]
     },
     "execution_count": 145,
     "metadata": {},
     "output_type": "execute_result"
    },
    {
     "data": {
      "image/png": "[encoded data removed]",
      "text/plain": [
       "<Figure size 1000x500 with 1 Axes>"
      ]
     },
     "metadata": {},
     "output_type": "display_data"
    }
   ],
   "source": [
    "plt.figure(figsize=(10,5))\n",
    "sns.countplot(df[\"CATEGORY\"])\n",
    "df."
   ]
  },
  {
   "cell_type": "code",
   "execution_count": 181,
   "id": "12aab685-1a8c-47e1-81b5-f2e90a44ceb8",
   "metadata": {},
   "outputs": [
    {
     "data": {
      "text/plain": [
       "<Axes: xlabel='count', ylabel='DAY-NIGHT'>"
      ]
     },
     "execution_count": 181,
     "metadata": {},
     "output_type": "execute_result"
    },
    {
     "data": {
      "image/png": "[encoded data removed]",
      "text/plain": [
       "<Figure size 640x480 with 1 Axes>"
      ]
     },
     "metadata": {},
     "output_type": "display_data"
    }
   ],
   "source": [
    "sns.countplot(df[\"DAY-NIGHT\"])"
   ]
  },
  {
   "cell_type": "code",
   "execution_count": 229,
   "id": "ded582c8-9073-4b56-9ad8-760b0aac8b7c",
   "metadata": {},
   "outputs": [],
   "source": [
    "df[\"DAY\"] = pd.DatetimeIndex(df[\"START_DATE\"]).weekday\n",
    "day_labels = {0:\"MONDAY\",1:\"TUESDAY\",2:\"WEDNESDAY\",3:\"THURSDAY\",4:\"FRIDAY\",5:\"SATURDAY\",6:\"SUNDAY\"}\n",
    "df[\"DAY\"] = df[\"DAY\"].map(day_labels)"
   ]
  },
  {
   "cell_type": "code",
   "execution_count": 237,
   "id": "85d32fb2-13a7-4233-b78c-0a56af67c69a",
   "metadata": {},
   "outputs": [
    {
     "data": {
      "text/plain": [
       "Text(0, 0.5, 'TOTAL COUNT')"
      ]
     },
     "execution_count": 237,
     "metadata": {},
     "output_type": "execute_result"
    },
    {
     "data": {
      "image/png": "[encoded data removed]",
      "text/plain": [
       "<Figure size 1000x500 with 1 Axes>"
      ]
     },
     "metadata": {},
     "output_type": "display_data"
    }
   ],
   "source": [
    "plt.figure(figsize=(10,5))\n",
    "day_labels = df[\"DAY\"].value_counts()\n",
    "sns.barplot(x=day_labels.index,y=day_labels)\n",
    "plt.xlabel(\"DAY\")\n",
    "plt.ylabel(\"TOTAL COUNT\")"
   ]
  },
  {
   "cell_type": "markdown",
   "id": "4e1ec404-f82a-4949-8975-bbce2a7d6c4b",
   "metadata": {},
   "source": [
    "# conclusion \n",
    "##### From the analysis, it is clear that business trips account for the highest distance traveled, with around 11,000 miles covered, compared to only 1,500 miles for personal trips. The most common pickup and drop-off location is the city of Cary. It was also observed that most customers do not use round trips. A large number of rides—around 1,000—were for business purposes, while only about 100 were for personal use. The highest number of rides were booked in the afternoon, and Friday saw the most bookings overall. Monday and Tuesday had almost the same number of rides."
   ]
  }
 ],
 "metadata": {
  "kernelspec": {
   "display_name": "Python 3 (ipykernel)",
   "language": "python",
   "name": "python3"
  },
  "language_info": {
   "codemirror_mode": {
    "name": "ipython",
    "version": 3
   },
   "file_extension": ".py",
   "mimetype": "text/x-python",
   "name": "python",
   "nbconvert_exporter": "python",
   "pygments_lexer": "ipython3",
   "version": "3.12.3"
  }
 },
 "nbformat": 4,
 "nbformat_minor": 5
}
